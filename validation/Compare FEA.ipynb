{
 "cells": [
  {
   "cell_type": "code",
   "execution_count": 1,
   "id": "39010a5f-c409-4785-9774-a5b4f01ccf7d",
   "metadata": {
    "execution": {
     "iopub.execute_input": "2022-07-18T17:24:14.484400Z",
     "iopub.status.busy": "2022-07-18T17:24:14.484200Z",
     "iopub.status.idle": "2022-07-18T17:24:15.650722Z",
     "shell.execute_reply": "2022-07-18T17:24:15.650433Z",
     "shell.execute_reply.started": "2022-07-18T17:24:14.484363Z"
    },
    "tags": []
   },
   "outputs": [],
   "source": [
    "import matplotlib.pyplot as plt\n",
    "import ipywidgets\n",
    "import astropy.io.fits as fits\n",
    "import numpy as np\n",
    "import galsim\n",
    "import os.path\n",
    "%matplotlib widget"
   ]
  },
  {
   "cell_type": "code",
   "execution_count": 2,
   "id": "a130de12-f634-4072-a248-c39eeff325ab",
   "metadata": {
    "execution": {
     "iopub.execute_input": "2022-07-18T17:24:16.099062Z",
     "iopub.status.busy": "2022-07-18T17:24:16.098838Z",
     "iopub.status.idle": "2022-07-18T17:24:16.102014Z",
     "shell.execute_reply": "2022-07-18T17:24:16.101451Z",
     "shell.execute_reply.started": "2022-07-18T17:24:16.099048Z"
    },
    "tags": []
   },
   "outputs": [],
   "source": [
    "def get_zk(opd):\n",
    "    xs = np.linspace(-1, 1, opd.shape[0])\n",
    "    ys = np.linspace(-1, 1, opd.shape[1])\n",
    "    xs, ys = np.meshgrid(xs, ys)\n",
    "    w = ~opd.mask\n",
    "    basis = galsim.zernike.zernikeBasis(22, xs[w], ys[w], R_inner=0.61)\n",
    "    zk, *_ = np.linalg.lstsq(basis.T, opd[w], rcond=None)\n",
    "    return zk"
   ]
  },
  {
   "cell_type": "code",
   "execution_count": 3,
   "id": "a97acd23-43d9-48ea-8540-8be6fb8ceade",
   "metadata": {
    "execution": {
     "iopub.execute_input": "2022-07-18T17:24:16.291934Z",
     "iopub.status.busy": "2022-07-18T17:24:16.291702Z",
     "iopub.status.idle": "2022-07-18T17:24:16.294532Z",
     "shell.execute_reply": "2022-07-18T17:24:16.294233Z",
     "shell.execute_reply.started": "2022-07-18T17:24:16.291912Z"
    },
    "tags": []
   },
   "outputs": [],
   "source": [
    "def sub_ptt(opd):\n",
    "    xs = np.linspace(-1, 1, opd.shape[0])\n",
    "    ys = np.linspace(-1, 1, opd.shape[1])\n",
    "    xs, ys = np.meshgrid(xs, ys)\n",
    "    zk = get_zk(opd)\n",
    "    opd -= galsim.zernike.Zernike(zk[:4], R_inner=0.61)(xs, ys)\n",
    "    return opd"
   ]
  },
  {
   "cell_type": "code",
   "execution_count": 4,
   "id": "f45838a7-da39-4683-a60e-1462620dd9f0",
   "metadata": {
    "execution": {
     "iopub.execute_input": "2022-07-18T17:24:17.506434Z",
     "iopub.status.busy": "2022-07-18T17:24:17.506227Z",
     "iopub.status.idle": "2022-07-18T17:24:17.509663Z",
     "shell.execute_reply": "2022-07-18T17:24:17.509191Z",
     "shell.execute_reply.started": "2022-07-18T17:24:17.506421Z"
    },
    "tags": []
   },
   "outputs": [],
   "source": [
    "def getdata(angles, subsys, field):\n",
    "    za, ra = angles\n",
    "    name = f\"z{za}_r{ra}_{subsys}\"\n",
    "\n",
    "    wf_fn = os.path.join(\n",
    "        \"wfsim_simple_opds\", \n",
    "        \"fea\", \n",
    "        name,\n",
    "        f\"opd_{name}_{field}.fits.gz\"\n",
    "    )\n",
    "    wfsim_opd = fits.getdata(wf_fn)\n",
    "    wfsim_opd = np.ma.masked_array(wfsim_opd, mask=(wfsim_opd==0))\n",
    "    \n",
    "    tsph_fn = os.path.join(\n",
    "        \"ts_phosim_opds\",\n",
    "        \"fea\",\n",
    "        name,\n",
    "        f\"opd_{name}_{field}.fits.gz\"\n",
    "    )\n",
    "    tsph_opd = fits.getdata(tsph_fn)\n",
    "    tsph_opd = np.ma.masked_array(tsph_opd, mask=(tsph_opd==0))\n",
    "    return sub_ptt(wfsim_opd)*1e3, sub_ptt(tsph_opd)*1e3"
   ]
  },
  {
   "cell_type": "code",
   "execution_count": 5,
   "id": "a2b18f33-cfb9-489e-bed1-67aefd188fa7",
   "metadata": {
    "execution": {
     "iopub.execute_input": "2022-07-18T17:24:18.271298Z",
     "iopub.status.busy": "2022-07-18T17:24:18.270959Z",
     "iopub.status.idle": "2022-07-18T17:24:18.274041Z",
     "shell.execute_reply": "2022-07-18T17:24:18.273656Z",
     "shell.execute_reply.started": "2022-07-18T17:24:18.271284Z"
    },
    "tags": []
   },
   "outputs": [],
   "source": [
    "def colorbar(mappable):\n",
    "    from mpl_toolkits.axes_grid1 import make_axes_locatable\n",
    "    import matplotlib.pyplot as plt\n",
    "    last_axes = plt.gca()\n",
    "    ax = mappable.axes\n",
    "    fig = ax.figure\n",
    "    divider = make_axes_locatable(ax)\n",
    "    cax = divider.append_axes(\"right\", size=\"5%\", pad=0.05)\n",
    "    cbar = fig.colorbar(mappable, cax=cax)\n",
    "    plt.sca(last_axes)\n",
    "    return cbar"
   ]
  },
  {
   "cell_type": "code",
   "execution_count": 7,
   "id": "8ebf43de-8091-4b49-9940-e095d28a3c8e",
   "metadata": {
    "execution": {
     "iopub.execute_input": "2022-07-18T17:52:13.558665Z",
     "iopub.status.busy": "2022-07-18T17:52:13.557934Z",
     "iopub.status.idle": "2022-07-18T17:52:13.784279Z",
     "shell.execute_reply": "2022-07-18T17:52:13.783848Z",
     "shell.execute_reply.started": "2022-07-18T17:52:13.558616Z"
    },
    "tags": []
   },
   "outputs": [
    {
     "data": {
      "application/vnd.jupyter.widget-view+json": {
       "model_id": "acc23c8de13b43d69cf9e97729294e18",
       "version_major": 2,
       "version_minor": 0
      },
      "text/plain": [
       "interactive(children=(Dropdown(description='angles', options=(('0,0', (0, 0)), ('45,0', (45, 0)), ('45,45', (4…"
      ]
     },
     "metadata": {},
     "output_type": "display_data"
    }
   ],
   "source": [
    "@ipywidgets.interact(\n",
    "    angles=ipywidgets.Dropdown(\n",
    "        options=[\n",
    "            (\"0,0\",(0, 0)), \n",
    "            (\"45,0\", (45,0)), \n",
    "            (\"45,45\", (45, 45)), \n",
    "            (\"30,-30\", (30, -30))],\n",
    "    ),\n",
    "    subsys=ipywidgets.Dropdown(\n",
    "        options=[\"M1M3\", \"M2\", \"Cam\", \"All\"]\n",
    "    ),\n",
    "    field=ipywidgets.BoundedIntText(value=0, min=0, max=34)\n",
    ")\n",
    "def f(angles, subsys, field):\n",
    "    wfsim_opd, tsph_opd = getdata(angles, subsys, field)\n",
    "    vmax = np.max(np.abs(tsph_opd))\n",
    "\n",
    "    fig, axes = plt.subplots(nrows=1, ncols=3, figsize=(10, 3))    \n",
    "    colorbar(axes[0].imshow(wfsim_opd, vmin=-vmax, vmax=vmax, cmap='plasma'))\n",
    "    colorbar(axes[1].imshow(tsph_opd, vmin=-vmax, vmax=vmax, cmap='plasma'))\n",
    "    colorbar(axes[2].imshow(wfsim_opd - tsph_opd, vmin=-vmax/25, vmax=vmax/25, cmap='seismic'))\n",
    "    axes[0].set_title(\"wfsim\")\n",
    "    axes[1].set_title(\"tsph\")\n",
    "    axes[2].set_title(\"wfsim - tsph\")\n",
    "    plt.tight_layout()\n",
    "    plt.show()"
   ]
  },
  {
   "cell_type": "code",
   "execution_count": 8,
   "id": "fcb231e9-2ea9-4d3e-b357-bb82e0a34bc7",
   "metadata": {
    "execution": {
     "iopub.execute_input": "2022-07-18T17:53:46.692603Z",
     "iopub.status.busy": "2022-07-18T17:53:46.691673Z",
     "iopub.status.idle": "2022-07-18T17:53:46.722670Z",
     "shell.execute_reply": "2022-07-18T17:53:46.722251Z",
     "shell.execute_reply.started": "2022-07-18T17:53:46.692560Z"
    },
    "tags": []
   },
   "outputs": [],
   "source": [
    "plt.close('all')"
   ]
  },
  {
   "cell_type": "code",
   "execution_count": null,
   "id": "f46653b9-67d7-4cf2-b310-3afb5b5a253e",
   "metadata": {},
   "outputs": [],
   "source": []
  }
 ],
 "metadata": {
  "kernelspec": {
   "display_name": "Python 3 (ipykernel)",
   "language": "python",
   "name": "python3"
  },
  "language_info": {
   "codemirror_mode": {
    "name": "ipython",
    "version": 3
   },
   "file_extension": ".py",
   "mimetype": "text/x-python",
   "name": "python",
   "nbconvert_exporter": "python",
   "pygments_lexer": "ipython3",
   "version": "3.10.5"
  }
 },
 "nbformat": 4,
 "nbformat_minor": 5
}
